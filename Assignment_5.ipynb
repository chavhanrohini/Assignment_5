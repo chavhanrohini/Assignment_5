{
 "cells": [
  {
   "cell_type": "markdown",
   "id": "8f9c0a2b",
   "metadata": {},
   "source": [
    "## 1. What does an empty dictionary's code look like?\n",
    "In Python, an empty dictionary is represented using curly braces `{}` with no key-value pairs inside. Here's what the code for an empty dictionary looks like:\n"
   ]
  },
  {
   "cell_type": "code",
   "execution_count": 1,
   "id": "3d8fc89b",
   "metadata": {},
   "outputs": [],
   "source": [
    "my_empty_dict = {}"
   ]
  },
  {
   "cell_type": "markdown",
   "id": "3cd8b575",
   "metadata": {},
   "source": [
    "## 2. What is the value of a dictionary value with the key 'foo' and the value 42?\n",
    "\n",
    "The value of a dictionary with the key 'foo' and the value 42 is 42.\n"
   ]
  },
  {
   "cell_type": "markdown",
   "id": "a43bd354",
   "metadata": {},
   "source": [
    "## 3. What is the most significant distinction between a dictionary and a list?\n",
    "The most significant distinction between a dictionary and a list in Python is how they store and retrieve data:\n",
    "\n",
    "1.\tStorage of Data:\n",
    "•\tList: A list is an ordered collection of items. It stores elements in a sequential manner, and each element is accessed by its index (position) within the list. Lists are indexed using integer values, starting from 0.\n",
    "•\tDictionary: A dictionary is an unordered collection of key-value pairs. Instead of using indices, data in a dictionary is accessed by its associated key. Each key is unique within the dictionary, and it maps to a specific value.\n",
    "\n",
    "2.\tAccessing Data:\n",
    "•\tList: In a list, you access elements by their position (index) in the list. For example, `my_list[0]` accesses the first element of the list.\n",
    "•\tDictionary: In a dictionary, you access data by specifying the key associated with it. For example, `my_dict['key']` retrieves the value associated with the key `'key'`.\n",
    "\n",
    "3.\tOrdering:\n",
    "•\tList: Lists maintain the order of elements. The order in which items are added to the list is preserved, and you can access them in that order.\n",
    "•\tDictionary: Dictionaries do not guarantee any specific order of key-value pairs. In Python 3.7 and later, dictionaries maintain insertion order, but you should not rely on this behavior for older Python versions.\n",
    "\n",
    "4.\tMutability:\n",
    "•\tList: Lists are mutable, which means you can change their contents by adding, removing, or modifying elements.\n",
    "•\tDictionary: Dictionaries are also mutable; you can add, remove, or update key-value pairs.\n",
    "\n",
    "5.\tKey-Value Mapping:\n",
    "•\tList: Lists are used for storing collections of similar or different types of items. Elements in a list are typically accessed sequentially using numeric indices.\n",
    "•\tDictionary: Dictionaries are used for mapping keys to values, making it easy to associate data with unique identifiers (keys). Keys can be of various data types, and they provide a way to look up values quickly without needing to know their position.\n"
   ]
  },
  {
   "cell_type": "markdown",
   "id": "a3d6d981",
   "metadata": {},
   "source": [
    "## 4. What happens if you try to access spam['foo'] if spam is {'bar': 100}?\n",
    "\n",
    "If you try to access spam['foo'] and spam is {'bar': 100}, you will encounter a KeyError because the key 'foo' does not exist in the dictionary spam. In Python, dictionaries are indexed using keys, and attempting to access a key that does not exist in the dictionary will raise a KeyError exception\n"
   ]
  },
  {
   "cell_type": "markdown",
   "id": "e9fe1187",
   "metadata": {},
   "source": [
    "## 5. If a dictionary is stored in spam, what is the difference between the expressions 'cat' in spam and 'cat' in spam.keys()?\n",
    "\n",
    "In Python, when you have a dictionary stored in the variable `spam`, there is a difference between the expressions `'cat' in spam` and `'cat' in spam.keys()`:\n",
    "\n",
    "1.\t'cat' in spam:\n",
    "•\tThis expression checks if the key `'cat'` exists in the dictionary `spam`.\n",
    "•\tIf `'cat'` is a key in `spam`, it will return `True`.\n",
    "•\tIf `'cat'` is not a key in `spam`, it will return `False`.\n",
    "\n",
    "2.\t'cat' in spam.keys():\n",
    "•\tThis expression first retrieves all the keys of the dictionary `spam` using the `keys()` method.\n",
    "•\tIt then checks if `'cat'` exists in the list of keys.\n",
    "•\tIf `'cat'` is a key in `spam`, it will return `True`.\n",
    "•\tIf `'cat'` is not a key in `spam`, it will return `False`.\n"
   ]
  },
  {
   "cell_type": "markdown",
   "id": "7a067da9",
   "metadata": {},
   "source": [
    "## 6. If a dictionary is stored in spam, what is the difference between the expressions 'cat' in spam and 'cat' in spam.values()?\n",
    "\n",
    "In Python, when you have a dictionary stored in the variable `spam`, there is a difference between the expressions `'cat' in spam` and `'cat' in spam.values()`:\n",
    "\n",
    "1.\t'cat' in spam:\n",
    "•\tThis expression checks if the key `'cat'` exists in the dictionary `spam`.\n",
    "•\tIf `'cat'` is a key in `spam`, it will return `True`.\n",
    "•\tIf `'cat'` is not a key in `spam`, it will return `False`.\n",
    "\n",
    "2.\t'cat' in spam.values():\n",
    "•\tThis expression checks if the value `'cat'` exists in the values of the dictionary `spam`. It searches for `'cat'` among all the values, not the keys.\n",
    "•\tIf `'cat'` is found among the values in `spam`, it will return `True`.\n",
    "•\tIf `'cat'` is not found among the values, it will return `False`.\n"
   ]
  },
  {
   "cell_type": "markdown",
   "id": "2cccf301",
   "metadata": {},
   "source": [
    "# 7. What is a shortcut for the following code?\n",
    "## if 'color' not in spam:\n",
    "## spam['color'] = 'black'\n",
    "\n",
    "A shortcut for the code you provided, which checks if the key `'color'` is not in the dictionary `spam` and assigns it a default value of `'black'`, can be achieved using the `setdefault()` method. Here's how you can use it:\n",
    "\n",
    "spam.setdefault('color', 'black')\n",
    "The `setdefault()` method checks if the specified key exists in the dictionary. If it does, it returns the associated value; if it doesn't, it sets the key to the provided default value and returns the default value. In this case, it will either return the existing value of `'color'` or set it to `'black'` if it doesn't exist. This is a concise way to achieve the same result as the `if` statement you mentioned.\n"
   ]
  },
  {
   "cell_type": "markdown",
   "id": "47fbb55b",
   "metadata": {},
   "source": [
    "## 8. How do you \"pretty print\" dictionary values using which module and function?\n",
    "\n",
    "To \"pretty print\" dictionary values in Python, you can use the `pprint` module from the Python standard library, which provides the `pprint()` function. The `pprint()` function stands for \"pretty-print\" and formats complex data structures, such as dictionaries and lists, in a more readable and organized manner when printed to the console.\n",
    "Here's how to use the `pprint()` function to pretty print dictionary values:\n"
   ]
  },
  {
   "cell_type": "code",
   "execution_count": 4,
   "id": "12233cd1",
   "metadata": {},
   "outputs": [
    {
     "name": "stdout",
     "output_type": "stream",
     "text": [
      "{'address': {'city': 'Pune', 'street': '123 Main St', 'zip': '12345'},\n",
      " 'age': 28,\n",
      " 'name': 'Rohini Chavhan'}\n"
     ]
    }
   ],
   "source": [
    "import pprint\n",
    "\n",
    "my_dict = {\n",
    "    'name': 'Rohini Chavhan',\n",
    "    'age': 28,\n",
    "    'address': {\n",
    "        'street': '123 Main St',\n",
    "        'city': 'Pune',\n",
    "        'zip': '12345'\n",
    "    }\n",
    "}\n",
    "\n",
    "# Pretty print the dictionary\n",
    "pprint.pprint(my_dict)\n"
   ]
  },
  {
   "cell_type": "code",
   "execution_count": null,
   "id": "1d07f1d0",
   "metadata": {},
   "outputs": [],
   "source": []
  }
 ],
 "metadata": {
  "kernelspec": {
   "display_name": "Python 3 (ipykernel)",
   "language": "python",
   "name": "python3"
  },
  "language_info": {
   "codemirror_mode": {
    "name": "ipython",
    "version": 3
   },
   "file_extension": ".py",
   "mimetype": "text/x-python",
   "name": "python",
   "nbconvert_exporter": "python",
   "pygments_lexer": "ipython3",
   "version": "3.9.12"
  }
 },
 "nbformat": 4,
 "nbformat_minor": 5
}
